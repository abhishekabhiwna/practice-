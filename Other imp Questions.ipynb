{
 "cells": [
  {
   "cell_type": "markdown",
   "id": "c356ed9f",
   "metadata": {},
   "source": [
    " ## Basic questions:"
   ]
  },
  {
   "cell_type": "markdown",
   "id": "dca4b5c4",
   "metadata": {},
   "source": [
    "### Factorial:\n"
   ]
  },
  {
   "cell_type": "code",
   "execution_count": 17,
   "id": "03e8a158",
   "metadata": {},
   "outputs": [],
   "source": [
    "#Iterative\n",
    "def factorial(a):\n",
    "    fact=1\n",
    "    for i in range(1,a+1):\n",
    "        fact *=i\n",
    "    return fact\n",
    "\n",
    "#recursive\n",
    "def fact(b):\n",
    "    if (b==1) or (b==0):\n",
    "        return 1\n",
    "    else:\n",
    "        return b * fact(b-1)"
   ]
  },
  {
   "cell_type": "markdown",
   "id": "1f054be5",
   "metadata": {},
   "source": [
    "### Simple Interest"
   ]
  },
  {
   "cell_type": "code",
   "execution_count": 19,
   "id": "c8382a71",
   "metadata": {},
   "outputs": [],
   "source": [
    "def simple_interest(p,t,r):\n",
    "    print('The principal is', p)\n",
    "    print('The time period is', t)\n",
    "    print('The rate of interest is',r)\n",
    "     \n",
    "    si = (p * t * r)/100\n",
    "     \n",
    "    print('The Simple Interest is', si)\n",
    "    return si\n",
    "     "
   ]
  },
  {
   "cell_type": "markdown",
   "id": "6f7e0667",
   "metadata": {},
   "source": [
    "### Compound Interest\n",
    "\n",
    "Formula to calculate compound interest annually is given by: \n",
    "\n",
    "A = P(1 + R/100) t \n",
    "\n",
    "Compound Interest = A – P \n",
    "\n",
    "Where, \n",
    "-A is amount \n",
    "-P is principle amount \n",
    "-R is the rate and \n",
    "-T is the time span"
   ]
  },
  {
   "cell_type": "code",
   "execution_count": 20,
   "id": "110d130a",
   "metadata": {},
   "outputs": [],
   "source": [
    "def compound_interest(principle, rate, time):\n",
    " \n",
    "    # Calculates compound interest\n",
    "    Amount = principle * (pow((1 + rate / 100), time))\n",
    "    CI = Amount - principle\n",
    "    print(\"Compound interest is\", CI)"
   ]
  },
  {
   "cell_type": "markdown",
   "id": "934de610",
   "metadata": {},
   "source": [
    "### Armstrong"
   ]
  },
  {
   "cell_type": "code",
   "execution_count": 25,
   "id": "f7b87325",
   "metadata": {},
   "outputs": [],
   "source": [
    "def armstrong(num):\n",
    "    sum=0\n",
    "    order=len(str(num))\n",
    "    copy=num\n",
    "    while num!=0:\n",
    "        digit=num%10\n",
    "        sum+=digit**order\n",
    "        num=num//10\n",
    "        \n",
    "    if sum==copy:\n",
    "        return True\n",
    "    else:\n",
    "        return False"
   ]
  },
  {
   "cell_type": "code",
   "execution_count": 27,
   "id": "b872d848",
   "metadata": {},
   "outputs": [
    {
     "data": {
      "text/plain": [
       "False"
      ]
     },
     "execution_count": 27,
     "metadata": {},
     "output_type": "execute_result"
    }
   ],
   "source": [
    "armstrong(123)"
   ]
  },
  {
   "cell_type": "markdown",
   "id": "793268d2",
   "metadata": {},
   "source": [
    "### Prime number"
   ]
  },
  {
   "cell_type": "code",
   "execution_count": 28,
   "id": "8405b95c",
   "metadata": {},
   "outputs": [],
   "source": [
    "def prime(num):\n",
    "    if num>1:\n",
    "        for i in range(2,num):\n",
    "            if num%i==0:\n",
    "                return False\n",
    "            else:\n",
    "                return True"
   ]
  },
  {
   "cell_type": "code",
   "execution_count": 31,
   "id": "71a491ea",
   "metadata": {},
   "outputs": [
    {
     "data": {
      "text/plain": [
       "False"
      ]
     },
     "execution_count": 31,
     "metadata": {},
     "output_type": "execute_result"
    }
   ],
   "source": [
    "prime(4)"
   ]
  },
  {
   "cell_type": "markdown",
   "id": "54efb44f",
   "metadata": {},
   "source": [
    "### Fibonacci series"
   ]
  },
  {
   "cell_type": "code",
   "execution_count": 37,
   "id": "6501614a",
   "metadata": {},
   "outputs": [],
   "source": [
    "#rescursive\n",
    "def recursive(num):\n",
    "    if num==0:\n",
    "        return 0\n",
    "    elif num==1:\n",
    "        return 1\n",
    "    else:\n",
    "        return recursive(num-1) + recursive(num-2)\n",
    "    \n",
    "#iteractive\n",
    "def iter(num):\n",
    "    current=num\n",
    "    prev=1\n",
    "    for i in range(1,num):\n",
    "        preprev=prev\n",
    "        prev=current\n",
    "        current=prev+preprev\n",
    "    return current\n",
    "        "
   ]
  },
  {
   "cell_type": "code",
   "execution_count": 39,
   "id": "f6fb4636",
   "metadata": {},
   "outputs": [
    {
     "data": {
      "text/plain": [
       "28"
      ]
     },
     "execution_count": 39,
     "metadata": {},
     "output_type": "execute_result"
    }
   ],
   "source": [
    "iter(5)"
   ]
  },
  {
   "cell_type": "markdown",
   "id": "452301a3",
   "metadata": {},
   "source": [
    "## Arrays"
   ]
  },
  {
   "cell_type": "markdown",
   "id": "b04deeb6",
   "metadata": {},
   "source": [
    "### Python Program to find largest element in an array"
   ]
  },
  {
   "cell_type": "code",
   "execution_count": 77,
   "id": "8aa3d81b",
   "metadata": {},
   "outputs": [],
   "source": [
    "def largest(arr):\n",
    "    max=arr[0]\n",
    "    for i in range(1,len(arr)):\n",
    "        if arr[i]>max:\n",
    "            max=arr[i]\n",
    "    return max"
   ]
  },
  {
   "cell_type": "code",
   "execution_count": 78,
   "id": "cda112ab",
   "metadata": {},
   "outputs": [
    {
     "data": {
      "text/plain": [
       "9"
      ]
     },
     "execution_count": 78,
     "metadata": {},
     "output_type": "execute_result"
    }
   ],
   "source": [
    "arr=[1,2,3,6,8,9]\n",
    "largest(arr)"
   ]
  },
  {
   "cell_type": "markdown",
   "id": "b62746f3",
   "metadata": {},
   "source": [
    "### Monotonic\n",
    "\n",
    "An array is monotonic if and only if it is monotone increasing, or monotone decreasing.\n",
    "Since p <= q and q <= r implies p <=r. "
   ]
  },
  {
   "cell_type": "code",
   "execution_count": 80,
   "id": "2c614344",
   "metadata": {},
   "outputs": [],
   "source": [
    "def isMonotonic(A):\n",
    "  \n",
    "    return (all(A[i] <= A[i + 1] for i in range(len(A) - 1)) or\n",
    "            all(A[i] >= A[i + 1] for i in range(len(A) - 1)))"
   ]
  },
  {
   "cell_type": "code",
   "execution_count": 81,
   "id": "c886d810",
   "metadata": {},
   "outputs": [],
   "source": [
    "list=[1,2,3,4]"
   ]
  },
  {
   "cell_type": "code",
   "execution_count": 82,
   "id": "088da0bc",
   "metadata": {},
   "outputs": [
    {
     "name": "stdout",
     "output_type": "stream",
     "text": [
      "4\n"
     ]
    }
   ],
   "source": [
    "print(len(list))"
   ]
  },
  {
   "cell_type": "code",
   "execution_count": 87,
   "id": "30af68f5",
   "metadata": {},
   "outputs": [
    {
     "name": "stdout",
     "output_type": "stream",
     "text": [
      "4\n"
     ]
    }
   ],
   "source": [
    "a=('abcd')\n",
    "print(len(a)) \n"
   ]
  },
  {
   "cell_type": "code",
   "execution_count": 95,
   "id": "93b4d54a",
   "metadata": {},
   "outputs": [],
   "source": [
    "x=[1,3,11,5,6,8]\n",
    "x.sort()"
   ]
  },
  {
   "cell_type": "code",
   "execution_count": 96,
   "id": "3953b597",
   "metadata": {},
   "outputs": [
    {
     "name": "stdout",
     "output_type": "stream",
     "text": [
      "[1, 3, 5, 6, 8, 11]\n"
     ]
    }
   ],
   "source": [
    "def Bubblesort(x):\n",
    "    for i in range(len(x)-1,0,-1):\n",
    "        x[0]=a\n",
    "        if a <i:"
   ]
  },
  {
   "cell_type": "code",
   "execution_count": null,
   "id": "995bc797",
   "metadata": {},
   "outputs": [],
   "source": []
  }
 ],
 "metadata": {
  "kernelspec": {
   "display_name": "Python 3 (ipykernel)",
   "language": "python",
   "name": "python3"
  },
  "language_info": {
   "codemirror_mode": {
    "name": "ipython",
    "version": 3
   },
   "file_extension": ".py",
   "mimetype": "text/x-python",
   "name": "python",
   "nbconvert_exporter": "python",
   "pygments_lexer": "ipython3",
   "version": "3.9.7"
  }
 },
 "nbformat": 4,
 "nbformat_minor": 5
}
