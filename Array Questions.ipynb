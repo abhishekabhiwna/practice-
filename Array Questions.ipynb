{
 "cells": [
  {
   "cell_type": "markdown",
   "id": "23c2f106",
   "metadata": {},
   "source": [
    "### Anagram solution"
   ]
  },
  {
   "cell_type": "code",
   "execution_count": 1,
   "id": "c9e5f4c6",
   "metadata": {},
   "outputs": [],
   "source": [
    "#1st soultion\n",
    "def anagram(s1,s2):\n",
    "    s1=s1.replace(' ','').lower()\n",
    "    s2=s2.replace(' ','').lower()\n",
    "    \n",
    "    if sorted(s1) == sorted(s2):\n",
    "        return True\n",
    "    else:\n",
    "        return False"
   ]
  },
  {
   "cell_type": "code",
   "execution_count": null,
   "id": "7567f836",
   "metadata": {},
   "outputs": [],
   "source": [
    "\n",
    "\n",
    "\n",
    "def anagram(s1,s2):\n",
    "    s1=s1.replace(' ','').lower()\n",
    "    s2=s2.replace(' ','').lower()\n",
    "    \n",
    "    if len(s1) != len(s2):\n",
    "        return False\n",
    "    else:\n",
    "        count={}\n",
    "        \n",
    "        for i in s1:\n",
    "            if i in count:\n",
    "                count[i] += 1\n",
    "                print(count)\n",
    "            else:\n",
    "                count[i] = 1\n",
    "        for i in s2:\n",
    "            if i in count:\n",
    "                count[i] -= 1\n",
    "            else:\n",
    "                count[i] = 1\n",
    "                \n",
    "        for k in count:\n",
    "            if count[k] !=0:\n",
    "                return False\n",
    "            \n",
    "        else:\n",
    "            return True\n",
    "    \n",
    "            \n",
    "        \n",
    "        \n",
    "        \n",
    "    "
   ]
  },
  {
   "cell_type": "code",
   "execution_count": null,
   "id": "2fb76c78",
   "metadata": {},
   "outputs": [],
   "source": [
    "anagram('dog','aod')"
   ]
  },
  {
   "cell_type": "markdown",
   "id": "87787e09",
   "metadata": {},
   "source": [
    "### Array Sum Number:\n",
    "a=([1,3,2,2],4)\n",
    "\n",
    "output=[(1,3),(2,2)]"
   ]
  },
  {
   "cell_type": "code",
   "execution_count": 1,
   "id": "5be768fb",
   "metadata": {},
   "outputs": [],
   "source": [
    "def fun_sum(arr,k):\n",
    "    if len(arr)<0:\n",
    "        return\n",
    "    else:\n",
    "         \n",
    "        seen=set()\n",
    "        output=set()\n",
    "        \n",
    "        for num in arr:\n",
    "            target =k-num\n",
    "            if target not in seen:\n",
    "                seen.add(num)\n",
    "                \n",
    "                \n",
    "            else:\n",
    "                output.add((min(num,target),max(num,target)) )\n",
    "                \n",
    "        return len(output)\n",
    "        \n",
    "            \n",
    "        \n",
    "   \n",
    "                "
   ]
  },
  {
   "cell_type": "code",
   "execution_count": 2,
   "id": "c2ca112b",
   "metadata": {},
   "outputs": [
    {
     "data": {
      "text/plain": [
       "2"
      ]
     },
     "execution_count": 2,
     "metadata": {},
     "output_type": "execute_result"
    }
   ],
   "source": [
    "fun_sum([3,3,1,5,2,1],6)"
   ]
  },
  {
   "cell_type": "markdown",
   "id": "807fff4f",
   "metadata": {},
   "source": [
    "### Missing Element Check"
   ]
  },
  {
   "cell_type": "code",
   "execution_count": 9,
   "id": "d679742d",
   "metadata": {},
   "outputs": [],
   "source": [
    "#1st method\n",
    "def finder(arr,arr1):\n",
    "    arr.sort()\n",
    "    arr1.sort()\n",
    "    \n",
    "    for num1,num2 in zip(arr,arr1):\n",
    "        if num1!=num2:\n",
    "            return num1\n",
    "        return arr[-1]\n",
    "        \n",
    "        "
   ]
  },
  {
   "cell_type": "code",
   "execution_count": 10,
   "id": "08f24bc3",
   "metadata": {},
   "outputs": [
    {
     "data": {
      "text/plain": [
       "1"
      ]
     },
     "execution_count": 10,
     "metadata": {},
     "output_type": "execute_result"
    }
   ],
   "source": [
    "finder([1,2,3,4],[3,2,4])"
   ]
  },
  {
   "cell_type": "code",
   "execution_count": 11,
   "id": "b4146d8c",
   "metadata": {},
   "outputs": [],
   "source": [
    "#2nd method\n",
    "import collections\n",
    "def finder(arr1,arr2):\n",
    "    \n",
    "    d=collections.defaultdict(int)\n",
    "    \n",
    "    for num in arr2:\n",
    "        d[num]+=1\n",
    "        \n",
    "        \n",
    "    for num in arr1:\n",
    "        if d[num]==0:\n",
    "            return num\n",
    "        else:\n",
    "            d[num]-=1"
   ]
  },
  {
   "cell_type": "code",
   "execution_count": 12,
   "id": "fae132d3",
   "metadata": {},
   "outputs": [
    {
     "data": {
      "text/plain": [
       "4"
      ]
     },
     "execution_count": 12,
     "metadata": {},
     "output_type": "execute_result"
    }
   ],
   "source": [
    "finder([1,2,3,4],[3,2,1])"
   ]
  },
  {
   "cell_type": "markdown",
   "id": "3ada0466",
   "metadata": {},
   "source": [
    "### Largest Continous Sum"
   ]
  },
  {
   "cell_type": "code",
   "execution_count": 13,
   "id": "80b9260f",
   "metadata": {},
   "outputs": [],
   "source": [
    "def sum(arr):\n",
    "    if len(arr)==0:\n",
    "        return 0\n",
    "    \n",
    "    else:\n",
    "        highest_sum=current_sum=arr[0]\n",
    "        \n",
    "        for num in arr[1:]:\n",
    "            current_sum=max(current_sum+num,num)\n",
    "            highest_sum=max(current_sum,highest_sum)\n",
    "            \n",
    "            \n",
    "        return highest_sum"
   ]
  },
  {
   "cell_type": "code",
   "execution_count": 14,
   "id": "033ab4b3",
   "metadata": {},
   "outputs": [
    {
     "data": {
      "text/plain": [
       "29"
      ]
     },
     "execution_count": 14,
     "metadata": {},
     "output_type": "execute_result"
    }
   ],
   "source": [
    "sum([1,2,-1,3,4,10,10,-10,-1])"
   ]
  },
  {
   "cell_type": "markdown",
   "id": "e8e79a48",
   "metadata": {},
   "source": [
    "### Reversed"
   ]
  },
  {
   "cell_type": "code",
   "execution_count": 7,
   "id": "406fff9c",
   "metadata": {},
   "outputs": [],
   "source": [
    "def rev(s):\n",
    "    if len(s)== 0:\n",
    "        return None\n",
    "    else:\n",
    "        #to clear the spaces in string\n",
    "        stack=s.split()\n",
    "        print(stack)\n",
    "        \n",
    "        #creating list to holdvalues\n",
    "        rev=[]\n",
    "        \n",
    "        length=len(stack)\n",
    "        for i in range(length):\n",
    "            rev.append(stack.pop()) #LIFO OR FIFO concept\n",
    "            print(rev)\n",
    "            \n",
    "          # Prints the list without trailing white space!\n",
    "        return ' '.join(word for word in rev)"
   ]
  },
  {
   "cell_type": "code",
   "execution_count": 8,
   "id": "6eb152c9",
   "metadata": {},
   "outputs": [
    {
     "name": "stdout",
     "output_type": "stream",
     "text": [
      "['abhishek', 'is', 'gud']\n",
      "['gud']\n",
      "['gud', 'is']\n",
      "['gud', 'is', 'abhishek']\n"
     ]
    },
    {
     "data": {
      "text/plain": [
       "'gud is abhishek'"
      ]
     },
     "execution_count": 8,
     "metadata": {},
     "output_type": "execute_result"
    }
   ],
   "source": [
    "rev('abhishek is gud')"
   ]
  },
  {
   "cell_type": "markdown",
   "id": "a79251d6",
   "metadata": {},
   "source": [
    "## Reverse a string"
   ]
  },
  {
   "cell_type": "code",
   "execution_count": 1,
   "id": "68f8b803",
   "metadata": {},
   "outputs": [],
   "source": [
    "def reverse(s):\n",
    "    str='' #empty string\n",
    "    for i in s:\n",
    "        str=i+str\n",
    "    return str"
   ]
  },
  {
   "cell_type": "markdown",
   "id": "b760a569",
   "metadata": {},
   "source": [
    "### String Compresson"
   ]
  },
  {
   "cell_type": "code",
   "execution_count": 9,
   "id": "514bd731",
   "metadata": {},
   "outputs": [],
   "source": [
    "def compress(s):\n",
    "    if len(s)==0:\n",
    "        return 0\n",
    "    if len(s)==1:\n",
    "        return s + '1'\n",
    "    \n",
    "    cnt=1\n",
    "    l=len(s)\n",
    "    i=1\n",
    "    r=''\n",
    "    while i<l:\n",
    "        if s[i]==s[i-1]:\n",
    "            cnt +=1\n",
    "        else:\n",
    "            r = r + s[i-1]+ str(cnt)\n",
    "            cnt=1\n",
    "        i=i+1\n",
    "        \n",
    "            \n",
    "    r= r+ s[i-1] +str(cnt)\n",
    "    return r "
   ]
  },
  {
   "cell_type": "code",
   "execution_count": 10,
   "id": "d516128f",
   "metadata": {},
   "outputs": [
    {
     "data": {
      "text/plain": [
       "'A2B2C1'"
      ]
     },
     "execution_count": 10,
     "metadata": {},
     "output_type": "execute_result"
    }
   ],
   "source": [
    "compress('AABBC')"
   ]
  },
  {
   "cell_type": "markdown",
   "id": "d1274727",
   "metadata": {},
   "source": [
    "### Unique Values In A String"
   ]
  },
  {
   "cell_type": "code",
   "execution_count": 11,
   "id": "291ed2ac",
   "metadata": {},
   "outputs": [],
   "source": [
    "def unique(s):\n",
    "    if len(s)==1:\n",
    "        return s\n",
    "    else:\n",
    "        a=set()\n",
    "        for i in s:\n",
    "            if i in a:\n",
    "                return False\n",
    "            else:\n",
    "                a.add(i)\n",
    "        return True\n",
    "                    \n",
    "            \n",
    "                \n",
    "                \n"
   ]
  },
  {
   "cell_type": "code",
   "execution_count": 12,
   "id": "9dab20f1",
   "metadata": {},
   "outputs": [
    {
     "data": {
      "text/plain": [
       "True"
      ]
     },
     "execution_count": 12,
     "metadata": {},
     "output_type": "execute_result"
    }
   ],
   "source": [
    "unique('abc')"
   ]
  },
  {
   "cell_type": "code",
   "execution_count": 13,
   "id": "47b18235",
   "metadata": {},
   "outputs": [],
   "source": [
    "#using set\n",
    "def unique(s):\n",
    "    if len(set(s)) != len(s):\n",
    "        return False\n",
    "    return True"
   ]
  },
  {
   "cell_type": "code",
   "execution_count": 14,
   "id": "0c7f274b",
   "metadata": {},
   "outputs": [
    {
     "data": {
      "text/plain": [
       "False"
      ]
     },
     "execution_count": 14,
     "metadata": {},
     "output_type": "execute_result"
    }
   ],
   "source": [
    "unique('aabcd')"
   ]
  },
  {
   "cell_type": "markdown",
   "id": "e56b4b0b",
   "metadata": {},
   "source": [
    "### Given an array A of size N, print the reverse of it."
   ]
  },
  {
   "cell_type": "code",
   "execution_count": 5,
   "id": "1ef36a9b",
   "metadata": {},
   "outputs": [],
   "source": [
    "def rev(arr):\n",
    "    s=[]\n",
    "    length=len(arr)\n",
    "    for i in range(length):\n",
    "        s.append(arr.pop())\n",
    "    print(s)"
   ]
  },
  {
   "cell_type": "code",
   "execution_count": 6,
   "id": "ce62e312",
   "metadata": {},
   "outputs": [
    {
     "name": "stdout",
     "output_type": "stream",
     "text": [
      "[4, 3, 2, 1]\n"
     ]
    }
   ],
   "source": [
    "rev([1,2,3,4])"
   ]
  },
  {
   "cell_type": "markdown",
   "id": "3570535d",
   "metadata": {},
   "source": [
    "### Python Program to find sum of array"
   ]
  },
  {
   "cell_type": "code",
   "execution_count": 17,
   "id": "3ac2f88c",
   "metadata": {},
   "outputs": [
    {
     "name": "stdout",
     "output_type": "stream",
     "text": [
      "array('i', [1, 2, 3, 4])\n"
     ]
    }
   ],
   "source": [
    "import array as arr\n",
    "arr=arr.array('i',[1,2,3,4])\n",
    "print(arr)"
   ]
  },
  {
   "cell_type": "code",
   "execution_count": 18,
   "id": "f35fb23c",
   "metadata": {},
   "outputs": [
    {
     "name": "stdout",
     "output_type": "stream",
     "text": [
      "10\n"
     ]
    }
   ],
   "source": [
    "sum=0\n",
    "for i in arr:\n",
    "    sum=sum+i\n",
    "print(sum)"
   ]
  },
  {
   "cell_type": "markdown",
   "id": "5a1fe644",
   "metadata": {},
   "source": [
    "### Max and minima in array"
   ]
  },
  {
   "cell_type": "code",
   "execution_count": 19,
   "id": "62536de8",
   "metadata": {},
   "outputs": [
    {
     "name": "stdout",
     "output_type": "stream",
     "text": [
      "[11, 32, 36, 40, 55]\n",
      "55\n",
      "11\n"
     ]
    }
   ],
   "source": [
    "#1 method\n",
    "arr=[11,32,40,55,36]\n",
    "arr.sort()\n",
    "print(arr)\n",
    "max=arr[-1]\n",
    "min=arr[0]\n",
    "print(max)\n",
    "print(min)"
   ]
  },
  {
   "cell_type": "code",
   "execution_count": 20,
   "id": "961d2895",
   "metadata": {},
   "outputs": [
    {
     "name": "stdout",
     "output_type": "stream",
     "text": [
      "55\n"
     ]
    }
   ],
   "source": [
    "#max \n",
    "arr=[11,32,40,55,36]\n",
    "max=arr[0]\n",
    "for i in range(len(arr)):\n",
    "    if arr[i]>max:\n",
    "        max=arr[i]\n",
    "print(max)\n",
    "    \n",
    "    \n",
    "\n",
    "    "
   ]
  },
  {
   "cell_type": "code",
   "execution_count": 21,
   "id": "92e2d5fb",
   "metadata": {},
   "outputs": [
    {
     "name": "stdout",
     "output_type": "stream",
     "text": [
      "11\n"
     ]
    }
   ],
   "source": [
    "#min\n",
    "arr=[11,32,40,55,36]\n",
    "min=arr[0]\n",
    "for i in range(len(arr)):\n",
    "    if arr[i]<min:\n",
    "        min=arr[i]\n",
    "print(min)"
   ]
  },
  {
   "cell_type": "code",
   "execution_count": 4,
   "id": "c59a8762",
   "metadata": {},
   "outputs": [],
   "source": [
    "#removing duplicate\n",
    "def remove(duplicate):\n",
    "    x=[]\n",
    "    for i in duplicate:\n",
    "        if i not in x:\n",
    "            x.append(i)\n",
    "    return x"
   ]
  },
  {
   "cell_type": "code",
   "execution_count": 3,
   "id": "91d48d6c",
   "metadata": {},
   "outputs": [
    {
     "data": {
      "text/plain": [
       "[1, 2, 3, 4, 5, 6]"
      ]
     },
     "execution_count": 3,
     "metadata": {},
     "output_type": "execute_result"
    }
   ],
   "source": [
    "duplicate=[1,2,3,4,4,5,6,6]\n",
    "remove(duplicate)"
   ]
  },
  {
   "cell_type": "code",
   "execution_count": 5,
   "id": "f663c03c",
   "metadata": {},
   "outputs": [],
   "source": [
    "class Solution:\n",
    "    def isPalindrome(self, s: str) -> bool:\n",
    "        s1 = []\n",
    "        for key in s:\n",
    "            if key.isalpha() or key.isdigit():\n",
    "                s1.append(key.lower())\n",
    "        \n",
    "        return s1 == s1[::-1]"
   ]
  },
  {
   "cell_type": "code",
   "execution_count": null,
   "id": "4933c1dc",
   "metadata": {},
   "outputs": [],
   "source": []
  }
 ],
 "metadata": {
  "kernelspec": {
   "display_name": "Python 3 (ipykernel)",
   "language": "python",
   "name": "python3"
  },
  "language_info": {
   "codemirror_mode": {
    "name": "ipython",
    "version": 3
   },
   "file_extension": ".py",
   "mimetype": "text/x-python",
   "name": "python",
   "nbconvert_exporter": "python",
   "pygments_lexer": "ipython3",
   "version": "3.9.7"
  }
 },
 "nbformat": 4,
 "nbformat_minor": 5
}
