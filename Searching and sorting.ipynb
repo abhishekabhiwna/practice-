{
 "cells": [
  {
   "cell_type": "markdown",
   "id": "7303190e",
   "metadata": {},
   "source": [
    "## Sequential search"
   ]
  },
  {
   "cell_type": "markdown",
   "id": "4527c8dc",
   "metadata": {},
   "source": [
    "### Unordered List"
   ]
  },
  {
   "cell_type": "code",
   "execution_count": 1,
   "id": "8e7ccd0a",
   "metadata": {},
   "outputs": [],
   "source": [
    "def seq(arr,x):\n",
    "    pos=0 #position\n",
    "    found=False\n",
    "    \n",
    "    while pos<len(arr) and  not found:\n",
    "        if arr[pos]==x:\n",
    "            found=True\n",
    "        else:\n",
    "            pos+=1\n",
    "    return found"
   ]
  },
  {
   "cell_type": "code",
   "execution_count": 2,
   "id": "462d6f4f",
   "metadata": {},
   "outputs": [
    {
     "data": {
      "text/plain": [
       "True"
      ]
     },
     "execution_count": 2,
     "metadata": {},
     "output_type": "execute_result"
    }
   ],
   "source": [
    "arr=[1,2,3,4]\n",
    "seq(arr,1)"
   ]
  },
  {
   "cell_type": "markdown",
   "id": "d51c1858",
   "metadata": {},
   "source": [
    "### Ordered List"
   ]
  },
  {
   "cell_type": "code",
   "execution_count": 3,
   "id": "cd5a8231",
   "metadata": {},
   "outputs": [],
   "source": [
    "def seqo(arr,x): \n",
    "    pos=arr[0]\n",
    "    found=False\n",
    "    \n",
    "    while pos<len(arr)and not found:\n",
    "        if arr[pos] > x:\n",
    "            return 'arr value greater then searched item ,hence item does not exist'\n",
    "        elif arr[pos]==x:\n",
    "            found=True\n",
    "        else:\n",
    "            pos+=1\n",
    "    return found"
   ]
  },
  {
   "cell_type": "code",
   "execution_count": 4,
   "id": "4d40e42c",
   "metadata": {},
   "outputs": [
    {
     "data": {
      "text/plain": [
       "'arr value greater then searched item ,hence item does not exist'"
      ]
     },
     "execution_count": 4,
     "metadata": {},
     "output_type": "execute_result"
    }
   ],
   "source": [
    "arr=[1,2,3,4,6]\n",
    "seqo(arr,5)"
   ]
  },
  {
   "cell_type": "markdown",
   "id": "6a83f23e",
   "metadata": {},
   "source": [
    "## Binary Search "
   ]
  },
  {
   "cell_type": "code",
   "execution_count": 5,
   "id": "f71d9b53",
   "metadata": {},
   "outputs": [],
   "source": [
    "#Ieractive method\n",
    "def bs(arr,x):\n",
    "    first=0               #first element in list\n",
    "    last=len(arr)-1       #last element in list \n",
    "    found=False\n",
    "    \n",
    "    while first<=last and not found:\n",
    "        mid=(first+last)//2  #mid item of list\n",
    "        \n",
    "        if arr[mid]==x:\n",
    "            found = True\n",
    "        else:\n",
    "            if x <arr[mid]:\n",
    "                last=mid-1\n",
    "            else:\n",
    "                first=mid+1\n",
    "    return found\n",
    "            \n",
    "        "
   ]
  },
  {
   "cell_type": "code",
   "execution_count": 6,
   "id": "caab8785",
   "metadata": {},
   "outputs": [
    {
     "data": {
      "text/plain": [
       "False"
      ]
     },
     "execution_count": 6,
     "metadata": {},
     "output_type": "execute_result"
    }
   ],
   "source": [
    "arr=[1,2,3,4,5,6,7,8,9,10]\n",
    "bs(arr,13)"
   ]
  },
  {
   "cell_type": "code",
   "execution_count": 7,
   "id": "bfd941e4",
   "metadata": {},
   "outputs": [],
   "source": [
    "#Recursive method\n",
    "def recc(arr,x):\n",
    "    if len(arr)==0: #base case\n",
    "        return False\n",
    "    else:\n",
    "        mid=len(arr)//2\n",
    "        if arr[mid]==x:\n",
    "            return True\n",
    "        else:\n",
    "            if x<arr[mid]:\n",
    "                return recc(arr[:mid],x)\n",
    "            else:\n",
    "                return recc(arr[mid+1:],x)"
   ]
  },
  {
   "cell_type": "code",
   "execution_count": 8,
   "id": "9cc5f42f",
   "metadata": {},
   "outputs": [
    {
     "data": {
      "text/plain": [
       "True"
      ]
     },
     "execution_count": 8,
     "metadata": {},
     "output_type": "execute_result"
    }
   ],
   "source": [
    "arr=[1,2,3,4]\n",
    "recc(arr,3)"
   ]
  },
  {
   "cell_type": "markdown",
   "id": "e7d448e6",
   "metadata": {},
   "source": [
    "## Bubble Sort"
   ]
  },
  {
   "cell_type": "code",
   "execution_count": 9,
   "id": "bc462b57",
   "metadata": {},
   "outputs": [],
   "source": [
    "def bubble_sort(arr):\n",
    "    for n in range(len(arr)-1,0,-1): #arrange everything backward and remove the last element\n",
    "        print('This is the index n',n)\n",
    "        for i in range(n):\n",
    "            print('this is the i index check',i)\n",
    "            \n",
    "            if arr[i]>arr[i+1]:\n",
    "                temp=arr[i]\n",
    "                arr[i]=arr[i+1]\n",
    "                arr[i+1]=temp\n",
    "                 \n",
    "        "
   ]
  },
  {
   "cell_type": "code",
   "execution_count": 10,
   "id": "71a8e505",
   "metadata": {},
   "outputs": [
    {
     "name": "stdout",
     "output_type": "stream",
     "text": [
      "This is the index n 3\n",
      "this is the i index check 0\n",
      "this is the i index check 1\n",
      "this is the i index check 2\n",
      "This is the index n 2\n",
      "this is the i index check 0\n",
      "this is the i index check 1\n",
      "This is the index n 1\n",
      "this is the i index check 0\n"
     ]
    },
    {
     "data": {
      "text/plain": [
       "[2, 3, 5, 7]"
      ]
     },
     "execution_count": 10,
     "metadata": {},
     "output_type": "execute_result"
    }
   ],
   "source": [
    "arr=[5,3,7,2]\n",
    "bubble_sort(arr)\n",
    "arr"
   ]
  },
  {
   "cell_type": "markdown",
   "id": "36a07124",
   "metadata": {},
   "source": [
    "## Selection Sort\n"
   ]
  },
  {
   "cell_type": "code",
   "execution_count": 11,
   "id": "46898dba",
   "metadata": {},
   "outputs": [],
   "source": [
    "def selectionsort(arr):\n",
    "    for fillslot in range(len(arr)-1,0,-1):\n",
    "        positionofmax=0\n",
    "        \n",
    "        for location in range(1,fillslot+1):\n",
    "            '''location started from 1 cause location=0 is given to fillslot AND fillslot+1 as it \n",
    "                 should also include the last value in arr'''\n",
    "            \n",
    "            if arr[location]>arr[positionofmax]:\n",
    "                positionofmax=location #reset position of max\n",
    "                \n",
    "        temp=arr[fillslot]\n",
    "        arr[fillslot]=arr[positionofmax]\n",
    "        arr[positionofmax]=temp"
   ]
  },
  {
   "cell_type": "code",
   "execution_count": 12,
   "id": "03e10e65",
   "metadata": {},
   "outputs": [
    {
     "data": {
      "text/plain": [
       "[2, 3, 4, 6, 8]"
      ]
     },
     "execution_count": 12,
     "metadata": {},
     "output_type": "execute_result"
    }
   ],
   "source": [
    "x=[2,4,6,3,8]\n",
    "selectionsort(x)\n",
    "x\n"
   ]
  },
  {
   "cell_type": "markdown",
   "id": "983f4090",
   "metadata": {},
   "source": [
    "### Why is it important to index in reverse manner?"
   ]
  },
  {
   "cell_type": "markdown",
   "id": "3e026f65",
   "metadata": {},
   "source": [
    "So you don't have to actually go in a reverse manner, its just what makes more sense to me in the way it was implemented, you could build up your sublist the other way around (I think one of the visualization sites actually shows this the other way around) Basically feel free to implement it from starting form either side.\n",
    "\n",
    "You could switch it depending on the sorting order. Because the algorithm divides the input list into two parts: the sublist of items already sorted, which is built up from left to right at the front (left) of the list, and the sublist of items remaining to be sorted that occupy the rest of the list. Initially, the sorted sublist is empty and the unsorted sublist is the entire input list. The algorithm proceeds by finding the smallest (or largest, depending on sorting order) element in the unsorted sublist, exchanging (swapping) it with the leftmost unsorted element (putting it in sorted order), and moving the sublist boundaries one element to the right.\n",
    "\n"
   ]
  },
  {
   "cell_type": "markdown",
   "id": "261e0fba",
   "metadata": {},
   "source": [
    "## Inseertion Sort"
   ]
  },
  {
   "cell_type": "code",
   "execution_count": 13,
   "id": "952ae03f",
   "metadata": {},
   "outputs": [],
   "source": [
    "def insertionsort(arr):\n",
    "    for i in range(1,len(arr)): #since position 0 is already sorted goes frpm 1 to n-1\n",
    "        currentvalue=arr[i]\n",
    "        position=i\n",
    "        \n",
    "        while position>0 and arr[position-1]>currentvalue:\n",
    "            arr[position]=arr[position-1]\n",
    "            position=position-1\n",
    "            \n",
    "        arr[position]=currentvalue"
   ]
  },
  {
   "cell_type": "code",
   "execution_count": 14,
   "id": "700ee1fa",
   "metadata": {},
   "outputs": [
    {
     "data": {
      "text/plain": [
       "[1, 2, 3, 5, 6, 7, 8, 9, 12, 22]"
      ]
     },
     "execution_count": 14,
     "metadata": {},
     "output_type": "execute_result"
    }
   ],
   "source": [
    "arr=[5,3,7,2,1,12,22,6,9,8]\n",
    "insertionsort(arr)\n",
    "arr"
   ]
  },
  {
   "cell_type": "code",
   "execution_count": 15,
   "id": "a4e23d86",
   "metadata": {},
   "outputs": [],
   "source": [
    "#2nd method but it is O(n*2)\n",
    "def sort(arr):\n",
    "    for i in range(1,len(arr)):\n",
    "        for j in range(0,i):\n",
    "            if arr[i]<arr[j]:\n",
    "                temp=arr[j]\n",
    "                arr[j]=arr[i]\n",
    "                arr[i]=temp"
   ]
  },
  {
   "cell_type": "code",
   "execution_count": 16,
   "id": "3cee6a21",
   "metadata": {},
   "outputs": [
    {
     "data": {
      "text/plain": [
       "[1, 2, 3, 5, 6, 7, 8, 9, 12, 22]"
      ]
     },
     "execution_count": 16,
     "metadata": {},
     "output_type": "execute_result"
    }
   ],
   "source": [
    "arr=[5,3,7,2,1,12,22,6,9,8]\n",
    "sort(arr)\n",
    "arr"
   ]
  },
  {
   "cell_type": "markdown",
   "id": "aeaf3c34",
   "metadata": {},
   "source": [
    "## Merge Sort"
   ]
  },
  {
   "cell_type": "code",
   "execution_count": 17,
   "id": "3f97c5de",
   "metadata": {},
   "outputs": [],
   "source": [
    "def merge(arr):\n",
    "    if len(arr)>1:\n",
    "        mid=len(arr)//2\n",
    "        lefthalf=arr[:mid]\n",
    "        righthalf=arr[mid:]\n",
    "        \n",
    "        #RECURSION\n",
    "        #Sorting the lefthalf\n",
    "        merge(lefthalf)\n",
    "        #sorting the right half\n",
    "        merge(righthalf)\n",
    "        \n",
    "        #merging\n",
    "        \n",
    "        i=j=k=0  #i=left array index,j=rightarray index ,k=merged array index\n",
    "        \n",
    "        # Copy data to temp arrays Lefthalf[] and Righthalf[]\n",
    "        \n",
    "        while i < len(lefthalf) and j < len(righthalf):\n",
    "            \n",
    "            if lefthalf[i]>righthalf[j]:\n",
    "                arr[k]=lefthalf[i]\n",
    "                i=i+1\n",
    "                \n",
    "            else:\n",
    "                arr[k]=righthalf[j]\n",
    "                j+=1\n",
    "            k=k+1\n",
    "            \n",
    "        while i < len(lefthalf):\n",
    "            arr[k] = lefthalf[i]\n",
    "            i += 1\n",
    "            k += 1\n",
    "  \n",
    "        while j < len(righthalf):\n",
    "            arr[k] = righthalf[j]\n",
    "            j += 1\n",
    "            k += 1\n",
    "            \n",
    "            \n",
    "            \n",
    "        \n",
    "\n",
    "        "
   ]
  },
  {
   "cell_type": "code",
   "execution_count": 18,
   "id": "9dfbbb32",
   "metadata": {},
   "outputs": [
    {
     "name": "stdout",
     "output_type": "stream",
     "text": [
      "[9, 8, 7, 4, 3, 2, 1]\n"
     ]
    }
   ],
   "source": [
    "arr=[3,2,4,7,8,1,9]\n",
    "merge(arr)\n",
    "print(arr)"
   ]
  },
  {
   "cell_type": "markdown",
   "id": "3fe5b2aa",
   "metadata": {},
   "source": [
    "## Quick Sort"
   ]
  },
  {
   "cell_type": "code",
   "execution_count": 21,
   "id": "33dad7c8",
   "metadata": {},
   "outputs": [],
   "source": [
    "def quick_sort(arr):\n",
    "    length=len(arr)\n",
    "    if len(arr)<=1:\n",
    "        return arr\n",
    "    else:\n",
    "        pivot=arr.pop()\n",
    "        \n",
    "        # creating 2 lists to 1 greater then pivot value other lower than pivot value\n",
    "        \n",
    "    items_lower=[]\n",
    "    items_greater=[]\n",
    "    for item in arr:\n",
    "        if item>pivot:\n",
    "            items_greater.append(item)\n",
    "            \n",
    "        else:\n",
    "            items_lower.append(item)\n",
    "            \n",
    "    return quick_sort(items_lower)+[pivot]+ quick_sort(items_greater)\n",
    "        \n",
    "        "
   ]
  },
  {
   "cell_type": "code",
   "execution_count": 22,
   "id": "2b97283d",
   "metadata": {},
   "outputs": [
    {
     "name": "stdout",
     "output_type": "stream",
     "text": [
      "[1, 2, 3, 4, 7, 8, 9, 10, 14]\n"
     ]
    }
   ],
   "source": [
    "arr=[8,3,7,9,10,1,2,14,4]\n",
    "print(quick_sort(arr))\n"
   ]
  },
  {
   "cell_type": "code",
   "execution_count": null,
   "id": "d289d70c",
   "metadata": {},
   "outputs": [],
   "source": []
  }
 ],
 "metadata": {
  "kernelspec": {
   "display_name": "Python 3 (ipykernel)",
   "language": "python",
   "name": "python3"
  },
  "language_info": {
   "codemirror_mode": {
    "name": "ipython",
    "version": 3
   },
   "file_extension": ".py",
   "mimetype": "text/x-python",
   "name": "python",
   "nbconvert_exporter": "python",
   "pygments_lexer": "ipython3",
   "version": "3.9.7"
  }
 },
 "nbformat": 4,
 "nbformat_minor": 5
}
